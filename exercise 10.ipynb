{
 "cells": [
  {
   "cell_type": "code",
   "execution_count": 1,
   "id": "72158465",
   "metadata": {},
   "outputs": [
    {
     "name": "stdout",
     "output_type": "stream",
     "text": [
      "I am happy\n",
      "Predicted Emotion: happy\n",
      "Accuracy on Test Set: 66.67%\n"
     ]
    }
   ],
   "source": [
    "import numpy as np\n",
    "from sklearn.feature_extraction.text import TfidfVectorizer\n",
    "from sklearn.model_selection import train_test_split\n",
    "from sklearn.svm import SVC\n",
    "from sklearn.metrics import accuracy_score\n",
    "\n",
    "# Sample dataset (replace with your own labeled dataset)\n",
    "data = [\n",
    "   (\"I feel happy today\", \"happy\"),\n",
    "    (\"I'm sad about the news\", \"sad\"),\n",
    "    (\"Exciting news! I'm thrilled\", \"happy\"),\n",
    "    (\"Feeling angry right now\", \"angry\"),\n",
    "    (\"I can't stop laughing\", \"happy\"),\n",
    "    (\"I'm so scared of spiders\", \"fear\"),\n",
    "    (\"This movie is so boring\", \"sad\"),\n",
    "    (\"I love ice cream\", \"happy\"),\n",
    "    (\"I'm feeling anxious\", \"fear\"),\n",
    "    (\"That's hilarious\", \"happy\"),\n",
    "    (\"I'm in a bad mood\", \"sad\"),\n",
    "    (\"I'm feeling calm and relaxed\", \"calm\"),\n",
    "    #can add more labeled data\n",
    "]\n",
    "\n",
    "# Split data into text and labels\n",
    "text_data, labels = zip(*data)\n",
    "\n",
    "# Text preprocessing and feature extraction using TF-IDF\n",
    "tfidf_vectorizer = TfidfVectorizer(max_features=1000, stop_words='english')\n",
    "X = tfidf_vectorizer.fit_transform(text_data).toarray()\n",
    "\n",
    "# Split the dataset into training and testing sets\n",
    "X_train, X_test, y_train, y_test = train_test_split(X, labels, test_size=0.2, random_state=42)\n",
    "\n",
    "# Train a multiclass SVM classifier\n",
    "svm_classifier = SVC(kernel='linear')\n",
    "svm_classifier.fit(X_train, y_train)\n",
    "\n",
    "# Predict emotions for new input text\n",
    "def predict_emotion(input_text):\n",
    "    input_text_features = tfidf_vectorizer.transform([input_text]).toarray()\n",
    "    prediction = svm_classifier.predict(input_text_features)\n",
    "    return prediction[0]\n",
    "\n",
    "# Example usage\n",
    "input_text =input()\n",
    "predicted_emotion = predict_emotion(input_text)\n",
    "print(f\"Predicted Emotion: {predicted_emotion}\")\n",
    "\n",
    "# Evaluate the model on the test set\n",
    "y_pred = svm_classifier.predict(X_test)\n",
    "accuracy = accuracy_score(y_test, y_pred)\n",
    "print(f\"Accuracy on Test Set: {accuracy * 100:.2f}%\")\n"
   ]
  },
  {
   "cell_type": "code",
   "execution_count": null,
   "id": "65e02807",
   "metadata": {},
   "outputs": [],
   "source": []
  }
 ],
 "metadata": {
  "kernelspec": {
   "display_name": "Python 3 (ipykernel)",
   "language": "python",
   "name": "python3"
  },
  "language_info": {
   "codemirror_mode": {
    "name": "ipython",
    "version": 3
   },
   "file_extension": ".py",
   "mimetype": "text/x-python",
   "name": "python",
   "nbconvert_exporter": "python",
   "pygments_lexer": "ipython3",
   "version": "3.11.0"
  }
 },
 "nbformat": 4,
 "nbformat_minor": 5
}
