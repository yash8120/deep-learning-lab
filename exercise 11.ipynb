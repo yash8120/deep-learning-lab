{
 "cells": [
  {
   "cell_type": "code",
   "execution_count": 1,
   "id": "b4c8154a",
   "metadata": {},
   "outputs": [
    {
     "name": "stdout",
     "output_type": "stream",
     "text": [
      "Epoch 1/10\n",
      "5/5 [==============================] - 1s 44ms/step - loss: 0.7024 - accuracy: 0.4583 - val_loss: 0.6628 - val_accuracy: 0.6250\n",
      "Epoch 2/10\n",
      "5/5 [==============================] - 0s 9ms/step - loss: 0.6870 - accuracy: 0.5417 - val_loss: 0.6747 - val_accuracy: 0.6250\n",
      "Epoch 3/10\n",
      "5/5 [==============================] - 0s 10ms/step - loss: 0.6687 - accuracy: 0.5972 - val_loss: 0.6817 - val_accuracy: 0.7500\n",
      "Epoch 4/10\n",
      "5/5 [==============================] - 0s 9ms/step - loss: 0.6517 - accuracy: 0.8194 - val_loss: 0.6709 - val_accuracy: 0.6250\n",
      "Epoch 5/10\n",
      "5/5 [==============================] - 0s 9ms/step - loss: 0.6466 - accuracy: 0.7500 - val_loss: 0.6787 - val_accuracy: 0.6250\n",
      "Epoch 6/10\n",
      "5/5 [==============================] - 0s 10ms/step - loss: 0.6297 - accuracy: 0.8611 - val_loss: 0.6819 - val_accuracy: 0.6250\n",
      "Epoch 7/10\n",
      "5/5 [==============================] - 0s 10ms/step - loss: 0.6205 - accuracy: 0.8333 - val_loss: 0.6861 - val_accuracy: 0.5000\n",
      "Epoch 8/10\n",
      "5/5 [==============================] - 0s 9ms/step - loss: 0.5952 - accuracy: 0.9028 - val_loss: 0.7077 - val_accuracy: 0.3750\n",
      "Epoch 9/10\n",
      "5/5 [==============================] - 0s 10ms/step - loss: 0.5900 - accuracy: 0.7222 - val_loss: 0.7049 - val_accuracy: 0.5000\n",
      "Epoch 10/10\n",
      "5/5 [==============================] - 0s 10ms/step - loss: 0.5883 - accuracy: 0.8056 - val_loss: 0.6637 - val_accuracy: 0.6250\n",
      "1/1 [==============================] - 0s 69ms/step\n",
      "              precision    recall  f1-score   support\n",
      "\n",
      "           0       0.53      0.91      0.67        11\n",
      "           1       0.00      0.00      0.00         9\n",
      "\n",
      "    accuracy                           0.50        20\n",
      "   macro avg       0.26      0.45      0.33        20\n",
      "weighted avg       0.29      0.50      0.37        20\n",
      "\n",
      "1/1 [==============================] - 0s 19ms/step\n",
      "Prediction: Threat Detected\n"
     ]
    }
   ],
   "source": [
    "import numpy as np\n",
    "import tensorflow as tf\n",
    "from tensorflow import keras\n",
    "from tensorflow.keras import layers\n",
    "from sklearn.model_selection import train_test_split\n",
    "from sklearn.preprocessing import LabelEncoder\n",
    "from sklearn.metrics import classification_report\n",
    "\n",
    "# Sample dataset (replace with your own labeled dataset)\n",
    "# X should contain network traffic data, and y should contain labels (0 for normal, 1 for threat)\n",
    "X = np.random.rand(100, 10, 10, 3)  # Sample network traffic data (100 samples, 10x10 images, 3 channels)\n",
    "y = np.random.randint(2, size=100)  # Sample labels (binary: 0 for normal, 1 for threat)\n",
    "\n",
    "# Split the dataset into training and testing sets\n",
    "X_train, X_test, y_train, y_test = train_test_split(X, y, test_size=0.2, random_state=42)\n",
    "\n",
    "# Define a simple CNN model\n",
    "model = keras.Sequential([\n",
    "    layers.Conv2D(32, (3, 3), activation='relu', input_shape=(10, 10, 3)),\n",
    "    layers.MaxPooling2D((2, 2)),\n",
    "    layers.Flatten(),\n",
    "    layers.Dense(64, activation='relu'),\n",
    "    layers.Dense(1, activation='sigmoid')\n",
    "])\n",
    "\n",
    "# Compile the model\n",
    "model.compile(optimizer='adam', loss='binary_crossentropy', metrics=['accuracy'])\n",
    "\n",
    "# Train the model\n",
    "model.fit(X_train, y_train, epochs=10, batch_size=16, validation_split=0.1)\n",
    "\n",
    "# Evaluate the model on the test set\n",
    "y_pred = model.predict(X_test)\n",
    "y_pred_binary = [1 if pred >= 0.5 else 0 for pred in y_pred]\n",
    "\n",
    "print(classification_report(y_test, y_pred_binary))\n",
    "\n",
    "# Function to predict cyber threats\n",
    "def predict_cyber_threat(network_traffic):\n",
    "    # Assuming network_traffic is a numpy array with shape (10, 10, 3)\n",
    "    prediction = model.predict(np.array([network_traffic]))\n",
    "    return \"Threat Detected\" if prediction[0] >= 0.5 else \"Normal\"\n",
    "\n",
    "# Example usage\n",
    "sample_network_traffic = np.random.rand(10, 10, 3)  # Replace with your real network traffic data\n",
    "prediction = predict_cyber_threat(sample_network_traffic)\n",
    "print(f\"Prediction: {prediction}\")\n"
   ]
  },
  {
   "cell_type": "code",
   "execution_count": null,
   "id": "6aef92b5",
   "metadata": {},
   "outputs": [],
   "source": []
  }
 ],
 "metadata": {
  "kernelspec": {
   "display_name": "Python 3 (ipykernel)",
   "language": "python",
   "name": "python3"
  },
  "language_info": {
   "codemirror_mode": {
    "name": "ipython",
    "version": 3
   },
   "file_extension": ".py",
   "mimetype": "text/x-python",
   "name": "python",
   "nbconvert_exporter": "python",
   "pygments_lexer": "ipython3",
   "version": "3.11.0"
  }
 },
 "nbformat": 4,
 "nbformat_minor": 5
}
