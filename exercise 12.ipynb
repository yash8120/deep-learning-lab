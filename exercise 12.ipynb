{
 "cells": [
  {
   "cell_type": "code",
   "execution_count": null,
   "id": "d762ef4c",
   "metadata": {},
   "outputs": [
    {
     "name": "stdout",
     "output_type": "stream",
     "text": [
      "Downloading data from https://www.cs.toronto.edu/~kriz/cifar-10-python.tar.gz\n",
      "170498071/170498071 [==============================] - 33s 0us/step\n",
      "Epoch 1/10\n",
      "1563/1563 [==============================] - 40s 25ms/step - loss: 1.5026 - accuracy: 0.4506 - val_loss: 1.1849 - val_accuracy: 0.5739\n",
      "Epoch 2/10\n",
      "1563/1563 [==============================] - 36s 23ms/step - loss: 1.1148 - accuracy: 0.6054 - val_loss: 1.1303 - val_accuracy: 0.5942\n",
      "Epoch 3/10\n",
      "1563/1563 [==============================] - 38s 24ms/step - loss: 0.9648 - accuracy: 0.6621 - val_loss: 0.9363 - val_accuracy: 0.6736\n",
      "Epoch 4/10\n",
      "1563/1563 [==============================] - 35s 23ms/step - loss: 0.8662 - accuracy: 0.6968 - val_loss: 0.9583 - val_accuracy: 0.6701\n",
      "Epoch 5/10\n",
      "1563/1563 [==============================] - 37s 24ms/step - loss: 0.7923 - accuracy: 0.7232 - val_loss: 0.8620 - val_accuracy: 0.7105\n",
      "Epoch 6/10\n",
      "1563/1563 [==============================] - 36s 23ms/step - loss: 0.7373 - accuracy: 0.7417 - val_loss: 0.8685 - val_accuracy: 0.7020\n",
      "Epoch 7/10\n",
      "1563/1563 [==============================] - 35s 23ms/step - loss: 0.6897 - accuracy: 0.7576 - val_loss: 0.9116 - val_accuracy: 0.6930\n",
      "Epoch 8/10\n",
      "1563/1563 [==============================] - 35s 22ms/step - loss: 0.6449 - accuracy: 0.7730 - val_loss: 0.9133 - val_accuracy: 0.6927\n",
      "Epoch 9/10\n",
      "1563/1563 [==============================] - 35s 22ms/step - loss: 0.6077 - accuracy: 0.7843 - val_loss: 0.8446 - val_accuracy: 0.7225\n",
      "Epoch 10/10\n",
      "1563/1563 [==============================] - 36s 23ms/step - loss: 0.5661 - accuracy: 0.8016 - val_loss: 0.8714 - val_accuracy: 0.7248\n"
     ]
    }
   ],
   "source": [
    "import tensorflow as tf\n",
    "from tensorflow.keras import datasets, layers, models\n",
    "import matplotlib.pyplot as plt\n",
    "import numpy as np\n",
    "from PIL import Image\n",
    "\n",
    "# Step 1: Load and preprocess the CIFAR-10 dataset\n",
    "(train_images, train_labels), (test_images, test_labels) = datasets.cifar10.load_data()\n",
    "\n",
    "# Normalize pixel values to be between 0 and 1\n",
    "train_images, test_images = train_images / 255.0, test_images / 255.0\n",
    "\n",
    "# Step 2: Define the CNN model\n",
    "model = models.Sequential([\n",
    "    layers.Conv2D(32, (3, 3), activation='relu', input_shape=(32, 32, 3)),\n",
    "    layers.MaxPooling2D((2, 2)),\n",
    "    layers.Conv2D(64, (3, 3), activation='relu'),\n",
    "    layers.MaxPooling2D((2, 2)),\n",
    "    layers.Conv2D(64, (3, 3), activation='relu'),\n",
    "    layers.Flatten(),\n",
    "    layers.Dense(64, activation='relu'),\n",
    "    layers.Dense(10)  # Output layer with 10 classes\n",
    "])\n",
    "\n",
    "# Step 3: Compile the model\n",
    "model.compile(optimizer='adam',\n",
    "              loss=tf.keras.losses.SparseCategoricalCrossentropy(from_logits=True),\n",
    "              metrics=['accuracy'])\n",
    "\n",
    "# Step 4: Train the model\n",
    "history = model.fit(train_images, train_labels, epochs=10,\n",
    "                    validation_data=(test_images, test_labels))\n",
    "\n",
    "# Step 5: Evaluate the model\n",
    "test_loss, test_acc = model.evaluate(test_images, test_labels, verbose=2)\n",
    "print(f\"Test accuracy: {test_acc*100:.2f}%\")\n",
    "\n",
    "# Step 6: Make predictions on a new image\n",
    "def predict_new_image(image_path, model):\n",
    "    img = Image.open(image_path)\n",
    "    img = img.resize((32, 32))\n",
    "    img_array = np.array(img) / 255.0\n",
    "    img_array = np.expand_dims(img_array, axis=0)  # Add batch dimension\n",
    "    predictions = model.predict(img_array)\n",
    "    class_index = np.argmax(predictions[0])\n",
    "    return class_index\n",
    "\n",
    "new_image_path = 'sample.jpg'\n",
    "predicted_class = predict_new_image(new_image_path, model)\n",
    "print(f\"Predicted class index: {predicted_class}\")\n"
   ]
  },
  {
   "cell_type": "code",
   "execution_count": null,
   "id": "58ad713b",
   "metadata": {},
   "outputs": [],
   "source": []
  }
 ],
 "metadata": {
  "kernelspec": {
   "display_name": "Python 3 (ipykernel)",
   "language": "python",
   "name": "python3"
  },
  "language_info": {
   "codemirror_mode": {
    "name": "ipython",
    "version": 3
   },
   "file_extension": ".py",
   "mimetype": "text/x-python",
   "name": "python",
   "nbconvert_exporter": "python",
   "pygments_lexer": "ipython3",
   "version": "3.11.0"
  }
 },
 "nbformat": 4,
 "nbformat_minor": 5
}
